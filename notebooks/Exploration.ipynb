{
 "cells": [
  {
   "cell_type": "markdown",
   "id": "compatible-connection",
   "metadata": {},
   "source": [
    "Working Notebook to try things and donwload data from the quandl and tiingo"
   ]
  },
  {
   "cell_type": "code",
   "execution_count": null,
   "id": "reverse-writer",
   "metadata": {},
   "outputs": [],
   "source": [
    "import pandas_datareader.data as web\n",
    "import pandas_datareader as pdr\n",
    "import pandas as pd, numpy as np, matplotlib.pyplot as plt\n",
    "from empyrical import max_drawdown, annual_return, cagr, omega_ratio\n",
    "from matplotlib.ticker import FixedLocator\n",
    "from scipy.stats import geom\n",
    "import math\n",
    "import streamlit as st\n",
    "from matplotlib.pyplot import rc\n",
    "import datetime\n",
    "import pandas_market_calendars as mcal"
   ]
  },
  {
   "cell_type": "code",
   "execution_count": null,
   "id": "printable-plymouth",
   "metadata": {},
   "outputs": [],
   "source": [
    "symbol_oil = \"EIA/PET_RWTC_D\"\n",
    "df_oil = web.DataReader(symbol_oil, 'quandl', '2000-01-01', '2021-02-12', api_key = quandl_key)\n",
    "df_oil.to_csv(\"Oil_original.csv\")\n",
    "df_oil.reset_index().to_csv(\"Oil_flattened.csv\")"
   ]
  },
  {
   "cell_type": "code",
   "execution_count": null,
   "id": "annoying-energy",
   "metadata": {},
   "outputs": [],
   "source": [
    "df_spy = pdr.get_data_tiingo('SPY', '2000-01-01', end='2021-02-12', api_key=tiingo_key)\n",
    "df_spy.to_csv(\"SPY_original.csv\")\n",
    "df_spy.reset_index().to_csv(\"SPY_flattened.csv\",index=False)"
   ]
  },
  {
   "cell_type": "code",
   "execution_count": null,
   "id": "metallic-static",
   "metadata": {},
   "outputs": [],
   "source": [
    "df_gld = pdr.get_data_tiingo('GLD', '2000-01-01', end='2021-02-12', api_key=tiingo_key)\n",
    "df_gld.to_csv(\"GLD_original.csv\")\n",
    "df_gld.reset_index().to_csv(\"GLD_flattened.csv\",index=False)"
   ]
  },
  {
   "cell_type": "code",
   "execution_count": null,
   "id": "loaded-burns",
   "metadata": {},
   "outputs": [],
   "source": [
    "df_vglt = pdr.get_data_tiingo('VGLT', '2000-01-01', '2021-02-12', api_key=tiingo_key)\n",
    "df_vglt.to_csv(\"VGLT_original.csv\")\n",
    "df_vglt.reset_index().to_csv(\"VGLT_flattened.csv\")"
   ]
  },
  {
   "cell_type": "code",
   "execution_count": null,
   "id": "separated-white",
   "metadata": {},
   "outputs": [],
   "source": [
    "def read_data(file):\n",
    "    data = pd.read_csv(file,parse_dates=['date'])\n",
    "    data['date'] = data['date'].dt.tz_convert(None)\n",
    "    data = data.set_index('date')\n",
    "    return data\n"
   ]
  },
  {
   "cell_type": "code",
   "execution_count": null,
   "id": "stylish-portrait",
   "metadata": {},
   "outputs": [],
   "source": [
    "def price_diff_loaded(dataset, startDate, endDate, dayprice = 'open'):\n",
    "    '''\n",
    "    Function takes in the dataset for a particular asset class, start and end dates, dayprice to use and calculates the absolute price change (in $)\n",
    "    '''\n",
    "    price_diff = dataset.loc[endDate,dayprice] - dataset.loc[startDate,dayprice]\n",
    "    return price_diff\n",
    "\n",
    "def price_ratio_loaded(dataset, startDate, endDate, dayprice = 'open'):\n",
    "    '''\n",
    "    Function takes in the dataset for a particular asset class, start and end dates, dayprice to use and calculates the relative price change\n",
    "    '''\n",
    "    price_ratio = dataset.loc[endDate,dayprice]/dataset.loc[startDate,dayprice]        \n",
    "    return price_ratio\n",
    "\n",
    "def dollar_cost_average_loaded(dataset, startDate, endDate, initial_investment = 0, regular_invest = 1000, freq = 10, dayprice = 'open'):\n",
    "    '''\n",
    "    Function takes in the dataset for a particular asset class, start and end dates, dayprice to use and calculates final value of the portfolio as a result of the dollar cost averaging\n",
    "    '''\n",
    " \n",
    "    dict_list = []\n",
    "   \n",
    "    invested = [] #tracks amount of invested capital up to this point\n",
    "    portfolio_value = [] #track protfolio value\n",
    "    nyse = mcal.get_calendar('NYSE')\n",
    "    early = nyse.schedule(start_date=startDate, end_date=endDate)\n",
    "    startDate = early.index[0]\n",
    "    endDate = early.index[-1]\n",
    "    dca_dates = list(early[::freq].index)\n",
    "    #dca_dates = investment_dates_all = pd.bdate_range(start = startDate, end = endDate, freq = str(freq)+\"B\") #tracks the days when regular investment is made\n",
    "    \n",
    "    current_value = initial_investment*price_ratio_loaded(dataset, startDate, startDate, dayprice) \n",
    "    \n",
    "    value_at_the_end = initial_investment*price_ratio_loaded(dataset, startDate, endDate, dayprice)\n",
    "    invested = initial_investment\n",
    "    portfolio_value = [current_value]\n",
    "    dates = [startDate]\n",
    "    previous_date = startDate\n",
    "    \n",
    "    history_dict = {'dates':startDate,'invested':initial_investment,'value_at_end':value_at_the_end,'current_value':current_value}\n",
    "    dict_list.append(history_dict)\n",
    "    \n",
    "    for date in dca_dates[1:]:\n",
    "        #add to the sum to track both current and at the end values of the portfolio\n",
    "        current_value = current_value*price_ratio_loaded(dataset, startDate = previous_date, endDate = date, dayprice = dayprice) + regular_invest \n",
    "        value_at_the_end += price_ratio_loaded(dataset, startDate = date, endDate = endDate, dayprice = dayprice)*regular_invest \n",
    "        invested += regular_invest\n",
    "        #log invested, portfolio_value\n",
    "        tmp_dict = {'dates':date,'invested':invested,'value_at_end':value_at_the_end,'current_value':current_value}\n",
    "        dict_list.append(tmp_dict)\n",
    "        previous_date = date   \n",
    "    current_value = current_value*price_ratio_loaded(dataset, startDate = date, endDate = endDate, dayprice = dayprice)\n",
    "    tmp_dict = {'dates':endDate,'invested':invested,'value_at_end':value_at_the_end,'current_value':current_value}\n",
    "    dict_list.append(tmp_dict)\n",
    "    return pd.DataFrame(dict_list)  \n",
    "\n",
    "   \n",
    "def hold_overnight_ratio(dataset, startDate, endDate):\n",
    "    '''\n",
    "    This function calculates the difference assuming\n",
    "    '''\n",
    "    price_ratio_list = (dataset.loc[startDate:endDate,'open'][1:] - dataset.loc[startDate:endDate,'close'][:-1])/(dataset.loc[startDate:endDate,'close'][:-1]+0.000001)\n",
    "    running_price_ratio = np.cumprod(1 + price_ratio_list)\n",
    "    price_ratio = np.prod(1+price_ratio_list)\n",
    "    return price_ratio, price_ratio_list, running_price_ratio \n",
    "\n",
    "def dollar_cost_average_hold_overnight(dataset, startDate, endDate, initial_investment = 0, regular_invest = 1000, freq = 10):\n",
    "    '''\n",
    "    Function takes in the dataset for a particular asset class, start and end dates, dayprice to use and calculates final value of the portfolio as a result of the dollar cost averaging\n",
    "    ''' \n",
    " \n",
    "    dict_list = []\n",
    "\n",
    "    nyse = mcal.get_calendar('NYSE')\n",
    "    early = nyse.schedule(start_date=startDate, end_date=endDate)\n",
    "    startDate = early.index[0]\n",
    "    endDate = early.index[-1]\n",
    "    dca_dates = list(early[::freq].index)\n",
    "    #dca_dates = investment_dates_all = pd.bdate_range(start = startDate, end = endDate, freq = str(freq)+\"B\") #tracks the days when regular investment is made\n",
    "    \n",
    "    current_value = initial_investment*hold_overnight_ratio(dataset, startDate, startDate)[0] \n",
    "    \n",
    "    value_at_the_end = initial_investment*hold_overnight_ratio(dataset, startDate, endDate)[0]\n",
    "    invested = initial_investment\n",
    "    previous_date = startDate\n",
    "    \n",
    "    history_dict = {'dates':startDate,'Invested':initial_investment,'Portfolio Value':current_value}\n",
    "    dict_list.append(history_dict)\n",
    "    \n",
    "    for date in dca_dates[1:]:\n",
    "        #add to the sum to track both current and at the end values of the portfolio\n",
    "        current_value = current_value*hold_overnight_ratio(dataset, startDate = previous_date, endDate = date)[0] + regular_invest \n",
    "        invested += regular_invest\n",
    "        #log invested, portfolio_value\n",
    "        tmp_dict = {'dates':date,'Invested':invested,'Portfolio Value':current_value}\n",
    "        dict_list.append(tmp_dict)\n",
    "        previous_date = date   \n",
    "    current_value = current_value*hold_overnight_ratio(dataset, startDate = date, endDate = endDate)[0]\n",
    "    tmp_dict = {'dates':endDate,'Invested':invested,'Portfolio Value':current_value}\n",
    "    dict_list.append(tmp_dict)\n",
    "    return pd.DataFrame(dict_list).set_index('dates')\n",
    "\n",
    "\n",
    "   \n",
    "def dont_hold_overnight_ratio(dataset, startDate, endDate):\n",
    "    '''\n",
    "    This function calculates the difference assuming\n",
    "    '''\n",
    "    price_ratio_list = (dataset.loc[startDate:endDate,'close'] - dataset.loc[startDate:endDate,'open'])/(dataset.loc[startDate:endDate,'open']+0.000001)\n",
    "    running_price_ratio = np.cumprod(1 + price_ratio_list)\n",
    "    price_ratio = np.prod(1+price_ratio_list)\n",
    "    return price_ratio, price_ratio_list, running_price_ratio \n",
    "\n",
    "def dollar_cost_average_dont_hold_overnight(dataset, startDate, endDate, initial_investment = 0, regular_invest = 1000, freq = 10):\n",
    "    '''\n",
    "    Function takes in the dataset for a particular asset class, start and end dates, dayprice to use and calculates final value of the portfolio as a result of the dollar cost averaging\n",
    "    ''' \n",
    " \n",
    "    dict_list = []\n",
    "\n",
    "    nyse = mcal.get_calendar('NYSE')\n",
    "    early = nyse.schedule(start_date=startDate, end_date=endDate)\n",
    "    startDate = early.index[0]\n",
    "    endDate = early.index[-1]\n",
    "    dca_dates = list(early[::freq].index)\n",
    "    #dca_dates = investment_dates_all = pd.bdate_range(start = startDate, end = endDate, freq = str(freq)+\"B\") #tracks the days when regular investment is made\n",
    "    \n",
    "    current_value = initial_investment*dont_hold_overnight_ratio(dataset, startDate, startDate)[0] \n",
    "    \n",
    "    value_at_the_end = initial_investment*dont_hold_overnight_ratio(dataset, startDate, endDate)[0]\n",
    "    invested = initial_investment\n",
    "    previous_date = startDate\n",
    "    \n",
    "    history_dict = {'dates':startDate,'Invested':initial_investment,'Portfolio Value':current_value}\n",
    "    dict_list.append(history_dict)\n",
    "    \n",
    "    for date in dca_dates[1:]:\n",
    "        #add to the sum to track both current and at the end values of the portfolio\n",
    "        current_value = current_value*dont_hold_overnight_ratio(dataset, startDate = previous_date, endDate = date)[0] + regular_invest \n",
    "        invested += regular_invest\n",
    "        #log invested, portfolio_value\n",
    "        tmp_dict = {'dates':date,'Invested':invested,'Portfolio Value':current_value}\n",
    "        dict_list.append(tmp_dict)\n",
    "        previous_date = date   \n",
    "    current_value = current_value*dont_hold_overnight_ratio(dataset, startDate = date, endDate = endDate)[0]\n",
    "    tmp_dict = {'dates':endDate,'Invested':invested,'Portfolio Value':current_value}\n",
    "    dict_list.append(tmp_dict)\n",
    "    return pd.DataFrame(dict_list).set_index('dates')"
   ]
  },
  {
   "cell_type": "code",
   "execution_count": null,
   "id": "passive-cross",
   "metadata": {},
   "outputs": [],
   "source": [
    "df_dont_hold_overnight = dollar_cost_average_dont_hold_overnight(df_spy, startDate=datetime.datetime(2018,7,10), endDate=datetime.datetime(2021,1,1))"
   ]
  },
  {
   "cell_type": "code",
   "execution_count": null,
   "id": "informative-skirt",
   "metadata": {},
   "outputs": [],
   "source": [
    "(df_dont_hold_overnight.index[-1] - df_dont_hold_overnight.index[0]).days"
   ]
  },
  {
   "cell_type": "code",
   "execution_count": null,
   "id": "natural-position",
   "metadata": {},
   "outputs": [],
   "source": [
    "df_hold_overnight = dollar_cost_average_hold_overnight(df_spy, startDate=datetime.datetime(2018,7,10), endDate=datetime.datetime(2021,1,1))"
   ]
  },
  {
   "cell_type": "code",
   "execution_count": null,
   "id": "available-consciousness",
   "metadata": {},
   "outputs": [],
   "source": [
    "df_hold_open = dollar_cost_average_loaded(df_spy, startDate='2018-07-05', endDate='2021-01-01')"
   ]
  },
  {
   "cell_type": "code",
   "execution_count": null,
   "id": "restricted-caution",
   "metadata": {},
   "outputs": [],
   "source": [
    "df_hold_close = dollar_cost_average_loaded(df_spy, startDate='2018-07-05', endDate='2021-01-01', dayprice = 'close')"
   ]
  },
  {
   "cell_type": "code",
   "execution_count": null,
   "id": "advised-homework",
   "metadata": {},
   "outputs": [],
   "source": [
    "df_hold_open"
   ]
  },
  {
   "cell_type": "code",
   "execution_count": null,
   "id": "impressed-reputation",
   "metadata": {},
   "outputs": [],
   "source": [
    "df_hold_open = df_hold_open.resample('12H')\n",
    "    \n",
    "# Get difference with array operations\n",
    "difference = np.array(df_hold_open['current_value']) - np.array(df_hold_close['current_value'])\n",
    "print(difference)\n",
    "# Style and size\n",
    "fig, ax = plt.subplots()\n",
    "#sns.set_style(\"whitegrid\")\n",
    "fig.set_size_inches(15, 7)\n",
    "\n",
    "# Plot Series\n",
    "ax.fill_between(df_hold_open['dates'], y1=difference, y2=0, color='green', where=difference > 0, edgecolor='black')\n",
    "ax.fill_between(df_hold_open['dates'], y1=difference, y2=0, color='red', where=difference < 0, edgecolor='black')\n",
    "ax.plot(df_hold_open['dates'], difference, color='black', linewidth=.4)\n",
    "\n",
    "ax.set_title('Lump Sum - DCA', size=18)\n",
    "ax.set_ylabel('Current Value Difference($)', size=14)\n",
    "ax.set_xlabel('Date of Investment', size=14)\n",
    "\n",
    "plt.legend(['Amount','DCA','LumpSum'])\n",
    "#plt.savefig('difference.png')\n",
    "plt.show()"
   ]
  }
 ],
 "metadata": {
  "kernelspec": {
   "display_name": "Python 3",
   "language": "python",
   "name": "python3"
  },
  "language_info": {
   "codemirror_mode": {
    "name": "ipython",
    "version": 3
   },
   "file_extension": ".py",
   "mimetype": "text/x-python",
   "name": "python",
   "nbconvert_exporter": "python",
   "pygments_lexer": "ipython3",
   "version": "3.6.12"
  }
 },
 "nbformat": 4,
 "nbformat_minor": 5
}
