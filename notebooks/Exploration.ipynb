{
 "cells": [
  {
   "cell_type": "markdown",
   "id": "subsequent-bolivia",
   "metadata": {},
   "source": [
    "Working Notebook to try things and donwload data from the quandl and tiingo"
   ]
  },
  {
   "cell_type": "code",
   "execution_count": 284,
   "id": "fiscal-transfer",
   "metadata": {},
   "outputs": [],
   "source": [
    "import pandas_datareader.data as web\n",
    "import pandas_datareader as pdr\n",
    "import pandas as pd, numpy as np, matplotlib.pyplot as plt\n",
    "from empyrical import max_drawdown, annual_return, cagr, omega_ratio\n",
    "from matplotlib.ticker import FixedLocator\n",
    "from scipy.stats import geom\n",
    "import math\n",
    "import streamlit as st\n",
    "from matplotlib.pyplot import rc\n",
    "import datetime\n",
    "import pandas_market_calendars as mcal"
   ]
  },
  {
   "cell_type": "code",
   "execution_count": 56,
   "id": "cleared-register",
   "metadata": {},
   "outputs": [],
   "source": [
    "symbol_oil = \"EIA/PET_RWTC_D\"\n",
    "df_oil = web.DataReader(symbol_oil, 'quandl', '2000-01-01', '2021-02-12', api_key = quandl_key)\n",
    "df_oil.to_csv(\"Oil_original.csv\")\n",
    "df_oil.reset_index().to_csv(\"Oil_flattened.csv\")"
   ]
  },
  {
   "cell_type": "code",
   "execution_count": 178,
   "id": "southeast-victoria",
   "metadata": {},
   "outputs": [],
   "source": [
    "df_spy = pdr.get_data_tiingo('SPY', '2000-01-01', end='2021-02-12', api_key=tiingo_key)\n",
    "df_spy.to_csv(\"SPY_original.csv\")\n",
    "df_spy.reset_index().to_csv(\"SPY_flattened.csv\",index=False)"
   ]
  },
  {
   "cell_type": "code",
   "execution_count": 387,
   "id": "molecular-catch",
   "metadata": {},
   "outputs": [],
   "source": [
    "df_gld = pdr.get_data_tiingo('GLD', '2000-01-01', end='2021-02-12', api_key=tiingo_key)\n",
    "df_gld.to_csv(\"GLD_original.csv\")\n",
    "df_gld.reset_index().to_csv(\"GLD_flattened.csv\",index=False)"
   ]
  },
  {
   "cell_type": "code",
   "execution_count": 1,
   "id": "middle-worcester",
   "metadata": {},
   "outputs": [
    {
     "ename": "NameError",
     "evalue": "name 'pdr' is not defined",
     "output_type": "error",
     "traceback": [
      "\u001b[0;31m---------------------------------------------------------------------------\u001b[0m",
      "\u001b[0;31mNameError\u001b[0m                                 Traceback (most recent call last)",
      "\u001b[0;32m<ipython-input-1-adfd8a165bde>\u001b[0m in \u001b[0;36m<module>\u001b[0;34m()\u001b[0m\n\u001b[0;32m----> 1\u001b[0;31m \u001b[0mdf_vglt\u001b[0m \u001b[0;34m=\u001b[0m \u001b[0mpdr\u001b[0m\u001b[0;34m.\u001b[0m\u001b[0mget_data_tiingo\u001b[0m\u001b[0;34m(\u001b[0m\u001b[0;34m'VGLT'\u001b[0m\u001b[0;34m,\u001b[0m \u001b[0;34m'2000-01-01'\u001b[0m\u001b[0;34m,\u001b[0m \u001b[0;34m'2021-02-12'\u001b[0m\u001b[0;34m,\u001b[0m \u001b[0mapi_key\u001b[0m\u001b[0;34m=\u001b[0m\u001b[0mtiingo_key\u001b[0m\u001b[0;34m)\u001b[0m\u001b[0;34m\u001b[0m\u001b[0;34m\u001b[0m\u001b[0m\n\u001b[0m\u001b[1;32m      2\u001b[0m \u001b[0mdf_vglt\u001b[0m\u001b[0;34m.\u001b[0m\u001b[0mto_csv\u001b[0m\u001b[0;34m(\u001b[0m\u001b[0;34m\"VGLT_original.csv\"\u001b[0m\u001b[0;34m)\u001b[0m\u001b[0;34m\u001b[0m\u001b[0;34m\u001b[0m\u001b[0m\n",
      "\u001b[0;31mNameError\u001b[0m: name 'pdr' is not defined"
     ]
    }
   ],
   "source": [
    "df_vglt = pdr.get_data_tiingo('VGLT', '2000-01-01', '2021-02-12', api_key=tiingo_key)\n",
    "df_vglt.to_csv(\"VGLT_original.csv\")\n",
    "df_vglt.reset_index().to_csv(\"VGLT_flattened.csv\")"
   ]
  },
  {
   "cell_type": "code",
   "execution_count": 245,
   "id": "informed-consultation",
   "metadata": {},
   "outputs": [],
   "source": [
    "def read_data(file):\n",
    "    data = pd.read_csv(file,parse_dates=['date'])\n",
    "    data['date'] = data['date'].dt.tz_convert(None)\n",
    "    data = data.set_index('date')\n",
    "    return data\n"
   ]
  },
  {
   "cell_type": "code",
   "execution_count": 435,
   "id": "labeled-construction",
   "metadata": {},
   "outputs": [],
   "source": [
    "def price_diff_loaded(dataset, startDate, endDate, dayprice = 'open'):\n",
    "    '''\n",
    "    Function takes in the dataset for a particular asset class, start and end dates, dayprice to use and calculates the absolute price change (in $)\n",
    "    '''\n",
    "    price_diff = dataset.loc[endDate,dayprice] - dataset.loc[startDate,dayprice]\n",
    "    return price_diff\n",
    "\n",
    "def price_ratio_loaded(dataset, startDate, endDate, dayprice = 'open'):\n",
    "    '''\n",
    "    Function takes in the dataset for a particular asset class, start and end dates, dayprice to use and calculates the relative price change\n",
    "    '''\n",
    "    price_ratio = dataset.loc[endDate,dayprice]/dataset.loc[startDate,dayprice]        \n",
    "    return price_ratio\n",
    "\n",
    "def dollar_cost_average_loaded(dataset, startDate, endDate, initial_investment = 0, regular_invest = 1000, freq = 10, dayprice = 'open'):\n",
    "    '''\n",
    "    Function takes in the dataset for a particular asset class, start and end dates, dayprice to use and calculates final value of the portfolio as a result of the dollar cost averaging\n",
    "    '''\n",
    " \n",
    "    dict_list = []\n",
    "   \n",
    "    invested = [] #tracks amount of invested capital up to this point\n",
    "    portfolio_value = [] #track protfolio value\n",
    "    nyse = mcal.get_calendar('NYSE')\n",
    "    early = nyse.schedule(start_date=startDate, end_date=endDate)\n",
    "    startDate = early.index[0]\n",
    "    endDate = early.index[-1]\n",
    "    dca_dates = list(early[::freq].index)\n",
    "    #dca_dates = investment_dates_all = pd.bdate_range(start = startDate, end = endDate, freq = str(freq)+\"B\") #tracks the days when regular investment is made\n",
    "    \n",
    "    current_value = initial_investment*price_ratio_loaded(dataset, startDate, startDate, dayprice) \n",
    "    \n",
    "    value_at_the_end = initial_investment*price_ratio_loaded(dataset, startDate, endDate, dayprice)\n",
    "    invested = initial_investment\n",
    "    portfolio_value = [current_value]\n",
    "    dates = [startDate]\n",
    "    previous_date = startDate\n",
    "    \n",
    "    history_dict = {'dates':startDate,'invested':initial_investment,'value_at_end':value_at_the_end,'current_value':current_value}\n",
    "    dict_list.append(history_dict)\n",
    "    \n",
    "    for date in dca_dates[1:]:\n",
    "        #add to the sum to track both current and at the end values of the portfolio\n",
    "        current_value = current_value*price_ratio_loaded(dataset, startDate = previous_date, endDate = date, dayprice = dayprice) + regular_invest \n",
    "        value_at_the_end += price_ratio_loaded(dataset, startDate = date, endDate = endDate, dayprice = dayprice)*regular_invest \n",
    "        invested += regular_invest\n",
    "        #log invested, portfolio_value\n",
    "        tmp_dict = {'dates':date,'invested':invested,'value_at_end':value_at_the_end,'current_value':current_value}\n",
    "        dict_list.append(tmp_dict)\n",
    "        previous_date = date   \n",
    "    current_value = current_value*price_ratio_loaded(dataset, startDate = date, endDate = endDate, dayprice = dayprice)\n",
    "    tmp_dict = {'dates':endDate,'invested':invested,'value_at_end':value_at_the_end,'current_value':current_value}\n",
    "    dict_list.append(tmp_dict)\n",
    "    return pd.DataFrame(dict_list)  \n",
    "\n",
    "   \n",
    "def hold_overnight_ratio(dataset, startDate, endDate):\n",
    "    '''\n",
    "    This function calculates the difference assuming\n",
    "    '''\n",
    "    price_ratio_list = (dataset.loc[startDate:endDate,'open'][1:] - dataset.loc[startDate:endDate,'close'][:-1])/(dataset.loc[startDate:endDate,'close'][:-1]+0.000001)\n",
    "    running_price_ratio = np.cumprod(1 + price_ratio_list)\n",
    "    price_ratio = np.prod(1+price_ratio_list)\n",
    "    return price_ratio, price_ratio_list, running_price_ratio \n",
    "\n",
    "def dollar_cost_average_hold_overnight(dataset, startDate, endDate, initial_investment = 0, regular_invest = 1000, freq = 10):\n",
    "    '''\n",
    "    Function takes in the dataset for a particular asset class, start and end dates, dayprice to use and calculates final value of the portfolio as a result of the dollar cost averaging\n",
    "    ''' \n",
    " \n",
    "    dict_list = []\n",
    "\n",
    "    nyse = mcal.get_calendar('NYSE')\n",
    "    early = nyse.schedule(start_date=startDate, end_date=endDate)\n",
    "    startDate = early.index[0]\n",
    "    endDate = early.index[-1]\n",
    "    dca_dates = list(early[::freq].index)\n",
    "    #dca_dates = investment_dates_all = pd.bdate_range(start = startDate, end = endDate, freq = str(freq)+\"B\") #tracks the days when regular investment is made\n",
    "    \n",
    "    current_value = initial_investment*hold_overnight_ratio(dataset, startDate, startDate)[0] \n",
    "    \n",
    "    value_at_the_end = initial_investment*hold_overnight_ratio(dataset, startDate, endDate)[0]\n",
    "    invested = initial_investment\n",
    "    previous_date = startDate\n",
    "    \n",
    "    history_dict = {'dates':startDate,'Invested':initial_investment,'Portfolio Value':current_value}\n",
    "    dict_list.append(history_dict)\n",
    "    \n",
    "    for date in dca_dates[1:]:\n",
    "        #add to the sum to track both current and at the end values of the portfolio\n",
    "        current_value = current_value*hold_overnight_ratio(dataset, startDate = previous_date, endDate = date)[0] + regular_invest \n",
    "        invested += regular_invest\n",
    "        #log invested, portfolio_value\n",
    "        tmp_dict = {'dates':date,'Invested':invested,'Portfolio Value':current_value}\n",
    "        dict_list.append(tmp_dict)\n",
    "        previous_date = date   \n",
    "    current_value = current_value*hold_overnight_ratio(dataset, startDate = date, endDate = endDate)[0]\n",
    "    tmp_dict = {'dates':endDate,'Invested':invested,'Portfolio Value':current_value}\n",
    "    dict_list.append(tmp_dict)\n",
    "    return pd.DataFrame(dict_list).set_index('dates')\n",
    "\n",
    "\n",
    "   \n",
    "def dont_hold_overnight_ratio(dataset, startDate, endDate):\n",
    "    '''\n",
    "    This function calculates the difference assuming\n",
    "    '''\n",
    "    price_ratio_list = (dataset.loc[startDate:endDate,'close'] - dataset.loc[startDate:endDate,'open'])/(dataset.loc[startDate:endDate,'open']+0.000001)\n",
    "    running_price_ratio = np.cumprod(1 + price_ratio_list)\n",
    "    price_ratio = np.prod(1+price_ratio_list)\n",
    "    return price_ratio, price_ratio_list, running_price_ratio \n",
    "\n",
    "def dollar_cost_average_dont_hold_overnight(dataset, startDate, endDate, initial_investment = 0, regular_invest = 1000, freq = 10):\n",
    "    '''\n",
    "    Function takes in the dataset for a particular asset class, start and end dates, dayprice to use and calculates final value of the portfolio as a result of the dollar cost averaging\n",
    "    ''' \n",
    " \n",
    "    dict_list = []\n",
    "\n",
    "    nyse = mcal.get_calendar('NYSE')\n",
    "    early = nyse.schedule(start_date=startDate, end_date=endDate)\n",
    "    startDate = early.index[0]\n",
    "    endDate = early.index[-1]\n",
    "    dca_dates = list(early[::freq].index)\n",
    "    #dca_dates = investment_dates_all = pd.bdate_range(start = startDate, end = endDate, freq = str(freq)+\"B\") #tracks the days when regular investment is made\n",
    "    \n",
    "    current_value = initial_investment*dont_hold_overnight_ratio(dataset, startDate, startDate)[0] \n",
    "    \n",
    "    value_at_the_end = initial_investment*dont_hold_overnight_ratio(dataset, startDate, endDate)[0]\n",
    "    invested = initial_investment\n",
    "    previous_date = startDate\n",
    "    \n",
    "    history_dict = {'dates':startDate,'Invested':initial_investment,'Portfolio Value':current_value}\n",
    "    dict_list.append(history_dict)\n",
    "    \n",
    "    for date in dca_dates[1:]:\n",
    "        #add to the sum to track both current and at the end values of the portfolio\n",
    "        current_value = current_value*dont_hold_overnight_ratio(dataset, startDate = previous_date, endDate = date)[0] + regular_invest \n",
    "        invested += regular_invest\n",
    "        #log invested, portfolio_value\n",
    "        tmp_dict = {'dates':date,'Invested':invested,'Portfolio Value':current_value}\n",
    "        dict_list.append(tmp_dict)\n",
    "        previous_date = date   \n",
    "    current_value = current_value*dont_hold_overnight_ratio(dataset, startDate = date, endDate = endDate)[0]\n",
    "    tmp_dict = {'dates':endDate,'Invested':invested,'Portfolio Value':current_value}\n",
    "    dict_list.append(tmp_dict)\n",
    "    return pd.DataFrame(dict_list).set_index('dates')"
   ]
  },
  {
   "cell_type": "code",
   "execution_count": 436,
   "id": "imported-theory",
   "metadata": {},
   "outputs": [],
   "source": [
    "df_dont_hold_overnight = dollar_cost_average_dont_hold_overnight(df_spy, startDate=datetime.datetime(2018,7,10), endDate=datetime.datetime(2021,1,1))"
   ]
  },
  {
   "cell_type": "code",
   "execution_count": 444,
   "id": "lonely-qualification",
   "metadata": {},
   "outputs": [
    {
     "data": {
      "text/plain": [
       "905"
      ]
     },
     "execution_count": 444,
     "metadata": {},
     "output_type": "execute_result"
    }
   ],
   "source": [
    "(df_dont_hold_overnight.index[-1] - df_dont_hold_overnight.index[0]).days"
   ]
  },
  {
   "cell_type": "code",
   "execution_count": 407,
   "id": "moral-bottle",
   "metadata": {},
   "outputs": [],
   "source": [
    "df_hold_overnight = dollar_cost_average_hold_overnight(df_spy, startDate=datetime.datetime(2018,7,10), endDate=datetime.datetime(2021,1,1))"
   ]
  },
  {
   "cell_type": "code",
   "execution_count": 424,
   "id": "unusual-sigma",
   "metadata": {},
   "outputs": [],
   "source": [
    "df_hold_open = dollar_cost_average_loaded(df_spy, startDate='2018-07-05', endDate='2021-01-01')"
   ]
  },
  {
   "cell_type": "code",
   "execution_count": 425,
   "id": "varying-still",
   "metadata": {},
   "outputs": [],
   "source": [
    "df_hold_close = dollar_cost_average_loaded(df_spy, startDate='2018-07-05', endDate='2021-01-01', dayprice = 'close')"
   ]
  },
  {
   "cell_type": "code",
   "execution_count": 426,
   "id": "unlikely-photography",
   "metadata": {},
   "outputs": [
    {
     "data": {
      "text/html": [
       "<div>\n",
       "<style scoped>\n",
       "    .dataframe tbody tr th:only-of-type {\n",
       "        vertical-align: middle;\n",
       "    }\n",
       "\n",
       "    .dataframe tbody tr th {\n",
       "        vertical-align: top;\n",
       "    }\n",
       "\n",
       "    .dataframe thead th {\n",
       "        text-align: right;\n",
       "    }\n",
       "</style>\n",
       "<table border=\"1\" class=\"dataframe\">\n",
       "  <thead>\n",
       "    <tr style=\"text-align: right;\">\n",
       "      <th></th>\n",
       "      <th>dates</th>\n",
       "      <th>invested</th>\n",
       "      <th>value_at_end</th>\n",
       "      <th>current_value</th>\n",
       "    </tr>\n",
       "  </thead>\n",
       "  <tbody>\n",
       "    <tr>\n",
       "      <th>0</th>\n",
       "      <td>2018-07-05</td>\n",
       "      <td>0</td>\n",
       "      <td>0.000000</td>\n",
       "      <td>0.000000</td>\n",
       "    </tr>\n",
       "    <tr>\n",
       "      <th>1</th>\n",
       "      <td>2018-07-19</td>\n",
       "      <td>1000</td>\n",
       "      <td>1326.317292</td>\n",
       "      <td>1000.000000</td>\n",
       "    </tr>\n",
       "    <tr>\n",
       "      <th>2</th>\n",
       "      <td>2018-08-02</td>\n",
       "      <td>2000</td>\n",
       "      <td>2657.001998</td>\n",
       "      <td>1996.717919</td>\n",
       "    </tr>\n",
       "    <tr>\n",
       "      <th>3</th>\n",
       "      <td>2018-08-16</td>\n",
       "      <td>3000</td>\n",
       "      <td>3968.858031</td>\n",
       "      <td>3025.376207</td>\n",
       "    </tr>\n",
       "    <tr>\n",
       "      <th>4</th>\n",
       "      <td>2018-08-30</td>\n",
       "      <td>4000</td>\n",
       "      <td>5246.716009</td>\n",
       "      <td>4105.867867</td>\n",
       "    </tr>\n",
       "    <tr>\n",
       "      <th>...</th>\n",
       "      <td>...</td>\n",
       "      <td>...</td>\n",
       "      <td>...</td>\n",
       "      <td>...</td>\n",
       "    </tr>\n",
       "    <tr>\n",
       "      <th>59</th>\n",
       "      <td>2020-11-05</td>\n",
       "      <td>59000</td>\n",
       "      <td>74547.825565</td>\n",
       "      <td>70028.195708</td>\n",
       "    </tr>\n",
       "    <tr>\n",
       "      <th>60</th>\n",
       "      <td>2020-11-19</td>\n",
       "      <td>60000</td>\n",
       "      <td>75593.326128</td>\n",
       "      <td>72303.477247</td>\n",
       "    </tr>\n",
       "    <tr>\n",
       "      <th>61</th>\n",
       "      <td>2020-12-04</td>\n",
       "      <td>61000</td>\n",
       "      <td>76605.468129</td>\n",
       "      <td>75686.482740</td>\n",
       "    </tr>\n",
       "    <tr>\n",
       "      <th>62</th>\n",
       "      <td>2020-12-18</td>\n",
       "      <td>62000</td>\n",
       "      <td>77607.651594</td>\n",
       "      <td>77438.567195</td>\n",
       "    </tr>\n",
       "    <tr>\n",
       "      <th>63</th>\n",
       "      <td>2020-12-31</td>\n",
       "      <td>62000</td>\n",
       "      <td>77607.651594</td>\n",
       "      <td>77607.651594</td>\n",
       "    </tr>\n",
       "  </tbody>\n",
       "</table>\n",
       "<p>64 rows × 4 columns</p>\n",
       "</div>"
      ],
      "text/plain": [
       "        dates  invested  value_at_end  current_value\n",
       "0  2018-07-05         0      0.000000       0.000000\n",
       "1  2018-07-19      1000   1326.317292    1000.000000\n",
       "2  2018-08-02      2000   2657.001998    1996.717919\n",
       "3  2018-08-16      3000   3968.858031    3025.376207\n",
       "4  2018-08-30      4000   5246.716009    4105.867867\n",
       "..        ...       ...           ...            ...\n",
       "59 2020-11-05     59000  74547.825565   70028.195708\n",
       "60 2020-11-19     60000  75593.326128   72303.477247\n",
       "61 2020-12-04     61000  76605.468129   75686.482740\n",
       "62 2020-12-18     62000  77607.651594   77438.567195\n",
       "63 2020-12-31     62000  77607.651594   77607.651594\n",
       "\n",
       "[64 rows x 4 columns]"
      ]
     },
     "execution_count": 426,
     "metadata": {},
     "output_type": "execute_result"
    }
   ],
   "source": [
    "df_hold_open"
   ]
  },
  {
   "cell_type": "code",
   "execution_count": 429,
   "id": "administrative-center",
   "metadata": {},
   "outputs": [
    {
     "name": "stdout",
     "output_type": "stream",
     "text": [
      "[   0.            0.          -11.81779484    4.96239949   19.10405596\n",
      "   12.63246553   -3.34155213   28.594132     22.61009087   42.17688055\n",
      "  -53.42455349  133.98632412 -407.7336081   -74.1450084    43.80443008\n",
      "  -34.87286805  128.51035437 -129.1447552    58.44734551   26.63381182\n",
      "  -77.00062122  243.24177492   21.84657221   24.89002602   37.64162997\n",
      "  -56.96567114  -58.75756501  350.96729011  103.24975304   -3.81752229\n",
      "  159.40707615  344.00124538   74.91071586 -134.16280674  -47.82509646\n",
      "  105.58578958  159.55312989  137.54581212 -105.65381538  -47.68987851\n",
      "   91.67541745  377.77323738 -526.72560143 2072.33805815  405.93969573\n",
      "  169.63197357 -434.74267932 -292.65836916 -222.5890312   455.23695626\n",
      " -719.22647276  138.82495197 -490.16166728 -308.38479912 -454.79583891\n",
      " 1537.84991302 -390.13649386 -128.21960802 -268.3024297  -138.883542\n",
      " -374.16555234 -442.99959359  446.99686128 -364.09204444]\n"
     ]
    },
    {
     "data": {
      "image/png": "[encoded data removed]",
      "text/plain": [
       "<Figure size 1080x504 with 1 Axes>"
      ]
     },
     "metadata": {
      "needs_background": "light"
     },
     "output_type": "display_data"
    }
   ],
   "source": [
    "def plot_the_difference(df1, df2, name1, name2):\n",
    "    '''\n",
    "    '''\n",
    "    difference = np.array(df1[''])\n",
    "    \n",
    "df_hold_open = df_hold_open.resample('12H')\n",
    "    \n",
    "# Get difference with array operations\n",
    "difference = np.array(df_hold_open['current_value']) - np.array(df_hold_close['current_value'])\n",
    "print(difference)\n",
    "# Style and size\n",
    "fig, ax = plt.subplots()\n",
    "#sns.set_style(\"whitegrid\")\n",
    "fig.set_size_inches(15, 7)\n",
    "\n",
    "# Plot Series\n",
    "ax.fill_between(df_hold_open['dates'], y1=difference, y2=0, color='green', where=difference > 0, edgecolor='black')\n",
    "ax.fill_between(df_hold_open['dates'], y1=difference, y2=0, color='red', where=difference < 0, edgecolor='black')\n",
    "ax.plot(df_hold_open['dates'], difference, color='black', linewidth=.4)\n",
    "\n",
    "ax.set_title('Lump Sum - DCA', size=18)\n",
    "ax.set_ylabel('Current Value Difference($)', size=14)\n",
    "ax.set_xlabel('Date of Investment', size=14)\n",
    "\n",
    "plt.legend(['Amount','DCA','LumpSum'])\n",
    "#plt.savefig('difference.png')\n",
    "plt.show()"
   ]
  }
 ],
 "metadata": {
  "kernelspec": {
   "display_name": "Python 3",
   "language": "python",
   "name": "python3"
  },
  "language_info": {
   "codemirror_mode": {
    "name": "ipython",
    "version": 3
   },
   "file_extension": ".py",
   "mimetype": "text/x-python",
   "name": "python",
   "nbconvert_exporter": "python",
   "pygments_lexer": "ipython3",
   "version": "3.6.12"
  }
 },
 "nbformat": 4,
 "nbformat_minor": 5
}
